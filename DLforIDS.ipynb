{
  "nbformat": 4,
  "nbformat_minor": 0,
  "metadata": {
    "colab": {
      "provenance": [],
      "gpuType": "T4",
      "authorship_tag": "ABX9TyPJG++aZlP2uCImUk2s1gms",
      "include_colab_link": true
    },
    "kernelspec": {
      "name": "python3",
      "display_name": "Python 3"
    },
    "language_info": {
      "name": "python"
    },
    "accelerator": "GPU"
  },
  "cells": [
    {
      "cell_type": "markdown",
      "metadata": {
        "id": "view-in-github",
        "colab_type": "text"
      },
      "source": [
        "<a href=\"https://colab.research.google.com/github/zdemanche/DLforIDS/blob/main/DLforIDS.ipynb\" target=\"_parent\"><img src=\"https://colab.research.google.com/assets/colab-badge.svg\" alt=\"Open In Colab\"/></a>"
      ]
    },
    {
      "cell_type": "code",
      "source": [
        "import pandas as pd\n",
        "import numpy as np\n",
        "import tensorflow as tf\n",
        "from tensorflow.keras.models import Sequential, load_model\n",
        "from tensorflow.keras.layers import Dense, Dropout, LeakyReLU\n",
        "from tensorflow.keras.optimizers import Adam\n",
        "from sklearn.preprocessing import StandardScaler, LabelEncoder\n",
        "from sklearn.model_selection import train_test_split\n",
        "from sklearn.metrics import accuracy_score, classification_report\n",
        "from sklearn.utils.class_weight import compute_class_weight\n",
        "import tensorflow.lite as tflite\n",
        "\n",
        "# Define correct column names based on UNSW-NB15 dataset\n",
        "column_names = [\n",
        "    \"srcip\", \"sport\", \"dstip\", \"dsport\", \"proto\", \"state\", \"dur\", \"sbytes\", \"dbytes\",\n",
        "    \"sttl\", \"dttl\", \"sloss\", \"dloss\", \"service\", \"Sload\", \"Dload\", \"Spkts\", \"Dpkts\",\n",
        "    \"swin\", \"dwin\", \"stcpb\", \"dtcpb\", \"smeansz\", \"dmeansz\", \"trans_depth\", \"res_bdy_len\",\n",
        "    \"Sjit\", \"Djit\", \"Stime\", \"Ltime\", \"Sintpkt\", \"Dintpkt\", \"tcprtt\", \"synack\", \"ackdat\",\n",
        "    \"is_sm_ips_ports\", \"ct_state_ttl\", \"ct_flw_http_mthd\", \"is_ftp_login\", \"ct_ftp_cmd\",\n",
        "    \"ct_srv_src\", \"ct_srv_dst\", \"ct_dst_ltm\", \"ct_src_dport_ltm\", \"ct_dst_sport_ltm\",\n",
        "    \"ct_dst_src_ltm\", \"attack_cat\", \"label\"\n",
        "]\n",
        "\n",
        "# Load and merge dataset with correct column names\n",
        "files = ['UNSW-NB15_1.csv', 'UNSW-NB15_2.csv', 'UNSW-NB15_3.csv', 'UNSW-NB15_4.csv']\n",
        "df = pd.concat([pd.read_csv(file, names=column_names, skiprows=1) for file in files], ignore_index=True)\n",
        "\n",
        "# Display column names to verify\n",
        "print(\"✅ Columns have been correctly renamed:\", df.columns)\n",
        "print(df.head())  # Show first 5 rows to confirm it's correct\n",
        "\n",
        "# Handle missing values\n",
        "df.fillna(0, inplace=True)  # Replace NaNs with 0\n",
        "\n",
        "df[\"attack_cat\"] = df[\"attack_cat\"].fillna(\"Unknown\")\n",
        "\n",
        "# Identify the correct target column\n",
        "if \"label\" in df.columns:\n",
        "    target_column = \"label\"\n",
        "    print(\"✅ Using 'label' for binary classification.\")\n",
        "elif \"attack_cat\" in df.columns:\n",
        "    target_column = \"attack_cat\"\n",
        "    print(\"✅ Using 'attack_cat' for multi-class classification.\")\n",
        "else:\n",
        "    print(\"❌ Error: No valid target column found in dataset.\")\n",
        "    exit()\n",
        "\n",
        "# Convert categorical columns to numeric\n",
        "label_encoder = LabelEncoder()\n",
        "for column in df.select_dtypes(include=['object']).columns:\n",
        "    df[column] = label_encoder.fit_transform(df[column].astype(str))\n",
        "\n",
        "# Define features and target\n",
        "X = df.drop(columns=[target_column, \"attack_cat\"], errors='ignore')\n",
        "y = df[target_column].astype(int)  # Ensure y is an integer\n",
        "\n",
        "# Normalize data\n",
        "scaler = StandardScaler()\n",
        "X_scaled = scaler.fit_transform(X)\n",
        "\n",
        "# Split data\n",
        "X_train, X_test, y_train, y_test = train_test_split(X_scaled, y, test_size=0.2, random_state=42)\n",
        "\n",
        "# Compute class weights to handle imbalance\n",
        "class_weights = compute_class_weight('balanced', classes=np.unique(y_train), y=y_train)\n",
        "class_weight_dict = {i: weight for i, weight in enumerate(class_weights)}\n",
        "\n",
        "# Build deep learning model\n",
        "model = Sequential([\n",
        "    Dense(128, input_shape=(X_train.shape[1],)),\n",
        "    LeakyReLU(alpha=0.1),  # Prevents dead neurons\n",
        "    Dropout(0.5),\n",
        "    Dense(64),\n",
        "    LeakyReLU(alpha=0.1),\n",
        "    Dropout(0.3),\n",
        "    Dense(32),\n",
        "    LeakyReLU(alpha=0.1),\n",
        "    Dense(1, activation='sigmoid') if target_column == \"label\" else Dense(len(np.unique(y)), activation='softmax')\n",
        "])\n",
        "\n",
        "# Compile model with lower learning rate\n",
        "optimizer = Adam(learning_rate=0.00005)\n",
        "model.compile(optimizer=optimizer,\n",
        "              loss='binary_crossentropy' if target_column == 'label' else 'sparse_categorical_crossentropy',\n",
        "              metrics=['accuracy'])\n",
        "\n",
        "# Train model with early stopping\n",
        "from tensorflow.keras.callbacks import EarlyStopping\n",
        "\n",
        "early_stop = EarlyStopping(monitor='val_loss', patience=3, restore_best_weights=True)\n",
        "\n",
        "model.fit(X_train, y_train, epochs=5, batch_size=128, validation_data=(X_test, y_test), class_weight=class_weight_dict, callbacks=[early_stop])\n",
        "\n",
        "# Evaluate model\n",
        "y_pred = (model.predict(X_test) > 0.5).astype(int) if target_column == 'label' else model.predict(X_test).argmax(axis=1)\n",
        "print(f'Accuracy: {accuracy_score(y_test, y_pred):.4f}')\n",
        "print(classification_report(y_test, y_pred))\n",
        "\n",
        "# Save model\n",
        "model.save(\"IDS_UNSW15_Model.h5\")\n",
        "\n",
        "# Convert model to TensorFlow Lite format\n",
        "converter = tf.lite.TFLiteConverter.from_keras_model(model)\n",
        "tflite_model = converter.convert()\n",
        "\n",
        "# Save the TFLite model\n",
        "with open(\"IDS_UNSW15_Model.tflite\", \"wb\") as f:\n",
        "    f.write(tflite_model)\n",
        "\n",
        "print(\"✅ Model converted and saved as TensorFlow Lite format!\")"
      ],
      "metadata": {
        "colab": {
          "base_uri": "https://localhost:8080/"
        },
        "id": "UjxDgzbHAIMx",
        "outputId": "e008e9e8-be9b-42b8-d158-6ae8693b68f3"
      },
      "execution_count": null,
      "outputs": [
        {
          "metadata": {
            "tags": null
          },
          "name": "stderr",
          "output_type": "stream",
          "text": [
            "<ipython-input-7-4f25654462a0>:26: DtypeWarning: Columns (1,3,47) have mixed types. Specify dtype option on import or set low_memory=False.\n",
            "  df = pd.concat([pd.read_csv(file, names=column_names, skiprows=1) for file in files], ignore_index=True)\n",
            "<ipython-input-7-4f25654462a0>:26: DtypeWarning: Columns (3,39,47) have mixed types. Specify dtype option on import or set low_memory=False.\n",
            "  df = pd.concat([pd.read_csv(file, names=column_names, skiprows=1) for file in files], ignore_index=True)\n"
          ]
        },
        {
          "metadata": {
            "tags": null
          },
          "name": "stdout",
          "output_type": "stream",
          "text": [
            "✅ Columns have been correctly renamed: Index(['srcip', 'sport', 'dstip', 'dsport', 'proto', 'state', 'dur', 'sbytes',\n",
            "       'dbytes', 'sttl', 'dttl', 'sloss', 'dloss', 'service', 'Sload', 'Dload',\n",
            "       'Spkts', 'Dpkts', 'swin', 'dwin', 'stcpb', 'dtcpb', 'smeansz',\n",
            "       'dmeansz', 'trans_depth', 'res_bdy_len', 'Sjit', 'Djit', 'Stime',\n",
            "       'Ltime', 'Sintpkt', 'Dintpkt', 'tcprtt', 'synack', 'ackdat',\n",
            "       'is_sm_ips_ports', 'ct_state_ttl', 'ct_flw_http_mthd', 'is_ftp_login',\n",
            "       'ct_ftp_cmd', 'ct_srv_src', 'ct_srv_dst', 'ct_dst_ltm',\n",
            "       'ct_src_dport_ltm', 'ct_dst_sport_ltm', 'ct_dst_src_ltm', 'attack_cat',\n",
            "       'label'],\n",
            "      dtype='object')\n",
            "   srcip          sport dstip dsport proto     state  dur  sbytes  dbytes  \\\n",
            "0  33661  149.171.126.9  1024    udp   CON  0.036133  528     304      31   \n",
            "1   1464  149.171.126.7    53    udp   CON  0.001119  146     178      31   \n",
            "2   3593  149.171.126.5    53    udp   CON  0.001209  132     164      31   \n",
            "3  49664  149.171.126.0    53    udp   CON  0.001169  146     178      31   \n",
            "4  32119  149.171.126.9   111    udp   CON  0.078339  568     312      31   \n",
            "\n",
            "   sttl  ...  is_ftp_login  ct_ftp_cmd ct_srv_src  ct_srv_dst  ct_dst_ltm  \\\n",
            "0    29  ...             0           2          4           2           3   \n",
            "1    29  ...             0          12          8           1           2   \n",
            "2    29  ...             0           6          9           1           1   \n",
            "3    29  ...             0           7          9           1           1   \n",
            "4    29  ...             0           2          4           2           3   \n",
            "\n",
            "   ct_src_dport_ltm  ct_dst_sport_ltm  ct_dst_src_ltm  attack_cat  label  \n",
            "0                 1                 1               2         NaN      0  \n",
            "1                 2                 1               1         NaN      0  \n",
            "2                 1                 1               1         NaN      0  \n",
            "3                 1                 1               1         NaN      0  \n",
            "4                 1                 1               2         NaN      0  \n",
            "\n",
            "[5 rows x 48 columns]\n",
            "✅ Using 'label' for binary classification.\n"
          ]
        },
        {
          "metadata": {
            "tags": null
          },
          "name": "stderr",
          "output_type": "stream",
          "text": [
            "/usr/local/lib/python3.11/dist-packages/keras/src/layers/core/dense.py:87: UserWarning: Do not pass an `input_shape`/`input_dim` argument to a layer. When using Sequential models, prefer using an `Input(shape)` object as the first layer in the model instead.\n",
            "  super().__init__(activity_regularizer=activity_regularizer, **kwargs)\n",
            "/usr/local/lib/python3.11/dist-packages/keras/src/layers/activations/leaky_relu.py:41: UserWarning: Argument `alpha` is deprecated. Use `negative_slope` instead.\n",
            "  warnings.warn(\n"
          ]
        },
        {
          "metadata": {
            "tags": null
          },
          "name": "stdout",
          "output_type": "stream",
          "text": [
            "Epoch 1/5\n",
            "\u001b[1m15876/15876\u001b[0m \u001b[32m━━━━━━━━━━━━━━━━━━━━\u001b[0m\u001b[37m\u001b[0m \u001b[1m55s\u001b[0m 3ms/step - accuracy: 0.9503 - loss: 0.1415 - val_accuracy: 0.9857 - val_loss: 0.0345\n",
            "Epoch 2/5\n",
            "\u001b[1m15876/15876\u001b[0m \u001b[32m━━━━━━━━━━━━━━━━━━━━\u001b[0m\u001b[37m\u001b[0m \u001b[1m48s\u001b[0m 3ms/step - accuracy: 0.9857 - loss: 0.0325 - val_accuracy: 0.9874 - val_loss: 0.0292\n",
            "Epoch 3/5\n",
            "\u001b[1m15876/15876\u001b[0m \u001b[32m━━━━━━━━━━━━━━━━━━━━\u001b[0m\u001b[37m\u001b[0m \u001b[1m64s\u001b[0m 4ms/step - accuracy: 0.9867 - loss: 0.0279 - val_accuracy: 0.9881 - val_loss: 0.0271\n",
            "Epoch 4/5\n",
            "\u001b[1m15876/15876\u001b[0m \u001b[32m━━━━━━━━━━━━━━━━━━━━\u001b[0m\u001b[37m\u001b[0m \u001b[1m50s\u001b[0m 3ms/step - accuracy: 0.9872 - loss: 0.0268 - val_accuracy: 0.9881 - val_loss: 0.0259\n",
            "Epoch 5/5\n",
            "\u001b[1m15876/15876\u001b[0m \u001b[32m━━━━━━━━━━━━━━━━━━━━\u001b[0m\u001b[37m\u001b[0m \u001b[1m52s\u001b[0m 3ms/step - accuracy: 0.9876 - loss: 0.0242 - val_accuracy: 0.9881 - val_loss: 0.0248\n",
            "\u001b[1m 5653/15876\u001b[0m \u001b[32m━━━━━━━\u001b[0m\u001b[37m━━━━━━━━━━━━━\u001b[0m \u001b[1m14s\u001b[0m 1ms/step"
          ]
        }
      ]
    },
    {
      "cell_type": "code",
      "source": [
        "import numpy as np\n",
        "import tensorflow as tf\n",
        "import pandas as pd\n",
        "import matplotlib.pyplot as plt\n",
        "from sklearn.preprocessing import StandardScaler, LabelEncoder\n",
        "\n",
        "# Define column names for consistency\n",
        "column_names = [\n",
        "    \"srcip\", \"sport\", \"dstip\", \"dsport\", \"proto\", \"state\", \"dur\", \"sbytes\", \"dbytes\",\n",
        "    \"sttl\", \"dttl\", \"sloss\", \"dloss\", \"service\", \"Sload\", \"Dload\", \"Spkts\", \"Dpkts\",\n",
        "    \"swin\", \"dwin\", \"stcpb\", \"dtcpb\", \"smeansz\", \"dmeansz\", \"trans_depth\", \"res_bdy_len\",\n",
        "    \"Sjit\", \"Djit\", \"Stime\", \"Ltime\", \"Sintpkt\", \"Dintpkt\", \"tcprtt\", \"synack\", \"ackdat\",\n",
        "    \"is_sm_ips_ports\", \"ct_state_ttl\", \"ct_flw_http_mthd\", \"is_ftp_login\", \"ct_ftp_cmd\",\n",
        "    \"ct_srv_src\", \"ct_srv_dst\", \"ct_dst_ltm\", \"ct_src_dport_ltm\", \"ct_dst_sport_ltm\",\n",
        "    \"ct_dst_src_ltm\", \"attack_cat\", \"label\"\n",
        "]\n",
        "\n",
        "# Load the dataset\n",
        "df_test = pd.read_csv('UNSW-NB15_1.csv', names=column_names, skiprows=1)\n",
        "\n",
        "# Handle missing values\n",
        "df_test.fillna(0, inplace=True)\n",
        "\n",
        "# Convert non-numeric categorical columns (proto, state, service) to numeric\n",
        "categorical_cols = df_test.select_dtypes(include=['object']).columns\n",
        "\n",
        "if len(categorical_cols) > 0:\n",
        "    print(\"Encoding categorical features:\", list(categorical_cols))\n",
        "    label_encoders = {}\n",
        "    for col in categorical_cols:\n",
        "        le = LabelEncoder()\n",
        "        df_test[col] = le.fit_transform(df_test[col].astype(str))  # Convert to string and encode\n",
        "\n",
        "# Extract features and normalize\n",
        "X_test_sample = df_test.drop(columns=[\"label\", \"attack_cat\"], errors=\"ignore\").astype(float)  # Convert all to float\n",
        "scaler = StandardScaler()\n",
        "X_test_sample_scaled = scaler.fit_transform(X_test_sample)\n",
        "\n",
        "# Load the TFLite model\n",
        "interpreter = tf.lite.Interpreter(model_path=\"IDS_UNSW15_Model.tflite\")\n",
        "interpreter.allocate_tensors()\n",
        "\n",
        "# Get input/output details\n",
        "input_details = interpreter.get_input_details()\n",
        "output_details = interpreter.get_output_details()\n",
        "\n",
        "# Run predictions on a sample batch\n",
        "num_samples = min(500, len(X_test_sample_scaled))  # Ensure we don't exceed dataset size\n",
        "normal_count, attack_count = 0, 0\n",
        "\n",
        "for i in range(num_samples):\n",
        "    sample = np.expand_dims(X_test_sample_scaled[i], axis=0).astype(np.float32)\n",
        "\n",
        "    # Set input tensor\n",
        "    interpreter.set_tensor(input_details[0]['index'], sample)\n",
        "\n",
        "    # Run inference\n",
        "    interpreter.invoke()\n",
        "\n",
        "    # Get output tensor\n",
        "    prediction = interpreter.get_tensor(output_details[0]['index'])[0]\n",
        "\n",
        "    # Binary classification: 0 = Normal, 1 = Attack\n",
        "    if prediction > 0.5:\n",
        "        attack_count += 1\n",
        "    else:\n",
        "        normal_count += 1\n",
        "\n",
        "# Create a visualization\n",
        "labels = [\"Normal Traffic\", \"Malicious Traffic\"]\n",
        "counts = [normal_count, attack_count]\n",
        "\n",
        "plt.figure(figsize=(8, 6))\n",
        "plt.bar(labels, counts, color=[\"green\", \"red\"])\n",
        "plt.title(\"Model Detection: Normal vs Malicious Traffic\")\n",
        "plt.xlabel(\"Traffic Type\")\n",
        "plt.ylabel(\"Number of Predictions\")\n",
        "plt.show()"
      ],
      "metadata": {
        "colab": {
          "base_uri": "https://localhost:8080/",
          "height": 612
        },
        "id": "SbYJGP0lCDQe",
        "outputId": "aece85a6-15e0-43fe-bd8a-91b3753d38c9"
      },
      "execution_count": null,
      "outputs": [
        {
          "output_type": "stream",
          "name": "stderr",
          "text": [
            "<ipython-input-7-44cb08f71050>:19: DtypeWarning: Columns (1,3,47) have mixed types. Specify dtype option on import or set low_memory=False.\n",
            "  df_test = pd.read_csv('UNSW-NB15_1.csv', names=column_names, skiprows=1)\n"
          ]
        },
        {
          "output_type": "stream",
          "name": "stdout",
          "text": [
            "Encoding categorical features: ['srcip', 'sport', 'dstip', 'dsport', 'proto', 'dloss', 'attack_cat']\n"
          ]
        },
        {
          "output_type": "display_data",
          "data": {
            "text/plain": [
              "<Figure size 800x600 with 1 Axes>"
            ],
            "image/png": "[encoded data removed]"
          },
          "metadata": {}
        }
      ]
    },
    {
      "cell_type": "code",
      "source": [
        "import matplotlib.pyplot as plt\n",
        "\n",
        "# Define categories and counts\n",
        "labels = [\"Normal Traffic\", \"Malicious Traffic\"]\n",
        "counts = [normal_count, attack_count]\n",
        "\n",
        "plt.figure(figsize=(8, 6))\n",
        "bars = plt.bar(labels, counts, color=[\"green\", \"red\"])\n",
        "\n",
        "# Annotate bars with exact values\n",
        "for bar, count in zip(bars, counts):\n",
        "    plt.text(bar.get_x() + bar.get_width()/2, bar.get_height() + 10,\n",
        "             str(count), ha='center', fontsize=12, fontweight='bold')\n",
        "\n",
        "plt.title(\"Model Detection: Normal vs Malicious Traffic\")\n",
        "plt.xlabel(\"Traffic Type\")\n",
        "plt.ylabel(\"Number of Predictions\")\n",
        "plt.yscale(\"log\")  # Apply log scale to fix large differences in count\n",
        "plt.show()"
      ],
      "metadata": {
        "id": "omYM46mONkzx"
      },
      "execution_count": null,
      "outputs": []
    }
  ]
}